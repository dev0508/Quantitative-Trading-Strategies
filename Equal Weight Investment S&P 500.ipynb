{
 "cells": [
  {
   "cell_type": "markdown",
   "metadata": {},
   "source": [
    "# Equal-Weight S&P 500 Index Fund"
   ]
  },
  {
   "cell_type": "code",
   "execution_count": 1,
   "metadata": {},
   "outputs": [],
   "source": [
    "import numpy as np\n",
    "import pandas as pd\n",
    "import requests\n",
    "import xlsxwriter\n",
    "import math\n",
    "import yfinance as yf\n",
    "from datetime import datetime, timedelta"
   ]
  },
  {
   "cell_type": "code",
   "execution_count": 39,
   "metadata": {},
   "outputs": [],
   "source": [
    "sp500 = pd.read_html('https://en.wikipedia.org/wiki/List_of_S%26P_500_companies')[0]\n",
    "\n",
    "sp500['Symbol'] = sp500['Symbol'].str.replace('.', '-')\n",
    "sp500 = sp500['Symbol'].to_list()"
   ]
  },
  {
   "cell_type": "code",
   "execution_count": 52,
   "metadata": {},
   "outputs": [],
   "source": [
    "stocks_combined = ' '.join(sp500)\n",
    "\n",
    "stocks_data = yf.Tickers(stocks_combined)\n",
    "stocks_data = stocks_data.tickers"
   ]
  },
  {
   "cell_type": "code",
   "execution_count": 66,
   "metadata": {},
   "outputs": [],
   "source": [
    "my_columns = ['Ticker', 'Stock Price', 'Market Capitalization', 'Number of Shares to Buy']\n",
    "final_dataframe = pd.DataFrame(columns = my_columns)\n",
    "\n",
    "for stock_ticker in stocks_data.values():\n",
    "\n",
    "    response = stock_ticker.info\n",
    "\n",
    "    if 'currentPrice' in response and 'marketCap' in response:\n",
    "        new_row = pd.Series(\n",
    "        [response['symbol'], response['currentPrice'], response['marketCap'], 'N/A'],\n",
    "        index=my_columns\n",
    "        )\n",
    "    else:\n",
    "        new_row = pd.Series(\n",
    "        [response['symbol'], 0, 0, 'N/A'],\n",
    "        index=my_columns\n",
    "        )\n",
    "    \n",
    "    final_dataframe = pd.concat([final_dataframe, new_row.to_frame().T], ignore_index = True)\n"
   ]
  },
  {
   "cell_type": "code",
   "execution_count": 54,
   "metadata": {},
   "outputs": [],
   "source": [
    "portfolio_size = input('Enter the amount of your portfolio')\n",
    "val = 0.0\n",
    "\n",
    "while(True):\n",
    "    try:\n",
    "        val = float(portfolio_size)\n",
    "        break\n",
    "    except ValueError:\n",
    "        print('That is not a Number, Try Again!')\n",
    "        portfolio_size = input('Enter the amount of your Portfolio')"
   ]
  },
  {
   "cell_type": "code",
   "execution_count": 55,
   "metadata": {},
   "outputs": [],
   "source": [
    "position_size = val/len(final_dataframe.index)\n",
    "\n",
    "for i in range(0, len(final_dataframe.index)):\n",
    "    if(float(final_dataframe.loc[i,'Stock Price']) != 0):\n",
    "        final_dataframe.loc[i, 'Number of Shares to Buy'] = math.floor(position_size / float(final_dataframe.loc[i,'Stock Price']))"
   ]
  },
  {
   "cell_type": "code",
   "execution_count": 56,
   "metadata": {},
   "outputs": [
    {
     "name": "stderr",
     "output_type": "stream",
     "text": [
      "C:\\Users\\devag\\AppData\\Local\\Temp\\ipykernel_15796\\1990354450.py:2: FutureWarning: Starting with pandas version 3.0 all arguments of to_excel except for the argument 'excel_writer' will be keyword-only.\n",
      "  final_dataframe.to_excel(writer,'Recommended Trades',index=False)\n"
     ]
    }
   ],
   "source": [
    "writer = pd.ExcelWriter('Recommended Trades.xlsx', engine = 'xlsxwriter')\n",
    "final_dataframe.to_excel(writer,'Recommended Trades',index=False)\n",
    "\n",
    "background_color = '#0a0a23'\n",
    "font_color = '#ffffff'\n",
    "\n",
    "string_format = writer.book.add_format(\n",
    "    {\n",
    "        'font_color': font_color,\n",
    "        'bg_color': background_color,\n",
    "        'border': 1\n",
    "    }\n",
    ")\n",
    "\n",
    "dolllar_format = writer.book.add_format(\n",
    "    {\n",
    "        'num_format': '$#,##0.00',\n",
    "        'font_color': font_color,\n",
    "        'bg_color': background_color,\n",
    "        'border': 1\n",
    "    }\n",
    ")\n",
    "\n",
    "integer_format = writer.book.add_format(\n",
    "    {\n",
    "        'num_format': '0',\n",
    "        'font_color': font_color,\n",
    "        'bg_color': background_color,\n",
    "        'border': 1\n",
    "    }\n",
    ")"
   ]
  },
  {
   "cell_type": "code",
   "execution_count": 57,
   "metadata": {},
   "outputs": [],
   "source": [
    "column_formats = {\n",
    "    'A': ['Ticker', string_format],\n",
    "    'B': ['Stock Price', dolllar_format],\n",
    "    'C': ['Market Capitalization', dolllar_format],\n",
    "    'D': ['Number of Shares to Buy', integer_format] \n",
    "}\n",
    "\n",
    "for column in column_formats.keys():\n",
    "    writer.sheets['Recommended Trades'].set_column(f'{column}:{column}', 25, column_formats[column][1])\n",
    "    writer.sheets['Recommended Trades'].write(f'{column}1',column_formats[column][0],string_format)\n",
    "writer.close()"
   ]
  }
 ],
 "metadata": {
  "kernelspec": {
   "display_name": "Python 3 (ipykernel)",
   "language": "python",
   "name": "python3"
  },
  "language_info": {
   "codemirror_mode": {
    "name": "ipython",
    "version": 3
   },
   "file_extension": ".py",
   "mimetype": "text/x-python",
   "name": "python",
   "nbconvert_exporter": "python",
   "pygments_lexer": "ipython3",
   "version": "3.11.0"
  }
 },
 "nbformat": 4,
 "nbformat_minor": 4
}
